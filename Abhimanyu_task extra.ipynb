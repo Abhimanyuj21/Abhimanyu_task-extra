{
 "cells": [
  {
   "cell_type": "code",
   "execution_count": null,
   "id": "5bd67240",
   "metadata": {},
   "outputs": [],
   "source": [
    "import tensorflow as tf  \n",
    "import pandas as pd\n",
    "import numpy as np\n",
    "import matplotlib.pyplot as plt"
   ]
  },
  {
   "cell_type": "code",
   "execution_count": null,
   "id": "1bae8476",
   "metadata": {},
   "outputs": [],
   "source": [
    "import keras"
   ]
  },
  {
   "cell_type": "code",
   "execution_count": null,
   "id": "3381a9cb",
   "metadata": {},
   "outputs": [],
   "source": [
    "def build_model1(input_shape):\n",
    "    model = tf.keras.Sequential\n",
    "    model.add(tf.keras.layers.Conv2D(filters=6,kernal_size=(5,5),strides=(1,1),activation='tanh',input_shape=input_shape))\n",
    "    model.add(tf.keras.layers.AveragePooling2D(pool_size=(2,2),strides=(2,2)))\n",
    "    model.add(tf.keras.layers.Conv2D(filters=16,kernal_size=(5,5),strides=(1,1),activation='tanh'))\n",
    "    model.add(tf.keras.layers.AveragePooling2D(pool_size=(2,2),strides=(2,2)))\n",
    "    model.add(tf.keras.layers.Flatten())\n",
    "    model.add(tf.keras.layers.Dense(unit=120,activation='tanh'))\n",
    "    model.add(tf.keras.layers.Flatten())\n",
    "    model.add(tf.keras.layers.Dense(unit=84,activation='tanh'))\n",
    "    model.add(tf.keras.layers.Dense(unit=10,activation='softmax'))\n",
    "    model.compile(optimizer=tf.keras.optimizers.SGD(lr=0.1,momentum=0.0,decay=0.0),loss='sparse_categorical_crossentropy',metrics=['accuracy'])\n",
    "    return model"
   ]
  },
  {
   "cell_type": "code",
   "execution_count": null,
   "id": "312f6e19",
   "metadata": {},
   "outputs": [],
   "source": [
    "def build_model2(input_tensor=None,classes=2):\n",
    "    img_rows,img_cols = 300,300\n",
    "    img_channels=3\n",
    "    img_dim=(img_rows,img_cols,img_channels)\n",
    "    img_input=input(img_dim)\n",
    "    \n",
    "    x=Conv2D(64,(3,3),activation='relu',padding='same', name='block1_conv1')(img_input)\n",
    "    x=Conv2D(64,(3,3),activation='relu',padding='same', name='block1_conv2')(x)\n",
    "    x=MaxPooling2D((2,2),strides=(2,2),name='block1_pool')(x)\n",
    "    \n",
    "    x=Conv2D(128,(3,3),activation='relu',padding='same', name='block2_conv1')(x)\n",
    "    x=Conv2D(128,(3,3),activation='relu',padding='same', name='block2_conv2')(x)\n",
    "    x=MaxPooling2D((2,2),strides=(2,2),name='block2_pool')(x) \n",
    "    \n",
    "    x=Conv2D(256,(3,3),activation='relu',padding='same', name='block3_conv1')(x)\n",
    "    x=Conv2D(256,(3,3),activation='relu',padding='same', name='block3_conv2')(x)\n",
    "    x=Conv2D(256,(3,3),activation='relu',padding='same', name='block3_conv3')(x)\n",
    "    x=MaxPooling2D((2,2),strides=(2,2),name='block3_pool')(x)   \n",
    "    \n",
    "    x=Conv2D(512,(3,3),activation='relu',padding='same', name='block4_conv1')(x)\n",
    "    x=Conv2D(512,(3,3),activation='relu',padding='same', name='block4_conv2')(x)\n",
    "    x=Conv2D(512,(3,3),activation='relu',padding='same', name='block4_conv3')(x)\n",
    "    x=MaxPooling2D((2,2),strides=(2,2),name='block4_pool')(x)     \n",
    "    \n",
    "    x=Conv2D(512,(3,3),activation='relu',padding='same', name='block5_conv1')(x)\n",
    "    x=Conv2D(512,(3,3),activation='relu',padding='same', name='block5_conv2')(x)\n",
    "    x=Conv2D(512,(3,3),activation='relu',padding='same', name='block5_conv3')(x)\n",
    "    x=MaxPooling2D((2,2),strides=(2,2),name='block5_pool')(x)  \n",
    "    \n",
    "    x=Flatten(name='flatten')(x)\n",
    "    x=Dense(4096,activation='relu',name='fc1')(x)\n",
    "    x=Dense(4096,activation='relu',name='fc2')(x)\n",
    "    x=Dense(classes,activation='softmax',name='prediction')(x)\n",
    "    \n",
    "    model=Model(inputs=img_input,outputs=x,name='VGGdemo')\n",
    "    \n",
    "    return model"
   ]
  },
  {
   "cell_type": "code",
   "execution_count": null,
   "id": "3c816114",
   "metadata": {},
   "outputs": [],
   "source": [
    "model=build_model2(classes=2)"
   ]
  },
  {
   "cell_type": "code",
   "execution_count": null,
   "id": "2efb4b6a",
   "metadata": {},
   "outputs": [],
   "source": [
    "model.comple(optimizer='adam',loss='sparse_categorical_crossentropy',metrics=['accuracy'])"
   ]
  },
  {
   "cell_type": "code",
   "execution_count": null,
   "id": "b6acd7ed",
   "metadata": {},
   "outputs": [],
   "source": []
  }
 ],
 "metadata": {
  "kernelspec": {
   "display_name": "Python 3 (ipykernel)",
   "language": "python",
   "name": "python3"
  },
  "language_info": {
   "codemirror_mode": {
    "name": "ipython",
    "version": 3
   },
   "file_extension": ".py",
   "mimetype": "text/x-python",
   "name": "python",
   "nbconvert_exporter": "python",
   "pygments_lexer": "ipython3",
   "version": "3.10.5"
  }
 },
 "nbformat": 4,
 "nbformat_minor": 5
}
